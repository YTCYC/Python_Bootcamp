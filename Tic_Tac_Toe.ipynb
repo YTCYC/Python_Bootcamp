{
 "cells": [
  {
   "cell_type": "code",
   "execution_count": 4,
   "id": "dab43c0c",
   "metadata": {},
   "outputs": [],
   "source": [
    "# Ask user input of position and validate input\n",
    "\n",
    "def player_position():\n",
    "    \n",
    "    position = \"not valid\"\n",
    "#     chosen_position = []\n",
    "    \n",
    "    while position not in range(1,10):\n",
    "        position = int(input(\"Enter the position you want to choose (number 1 to 9): \"))\n",
    "   \n",
    "        if position not in range(1,10):\n",
    "            clear_output()\n",
    "            print(\"Sorry, not valid input. Please enter an integer from 1 to 9 \") \n",
    "    return position\n",
    "    "
   ]
  },
  {
   "cell_type": "code",
   "execution_count": null,
   "id": "53af21f9",
   "metadata": {},
   "outputs": [],
   "source": [
    "# Ask user to pick a symbol\n",
    "\n",
    "def first_player_marker():\n",
    "    symbol1 = \"not valid\"\n",
    "    while symbol1 not in game_marker:\n",
    "        symbol1 = input(\"Choose the symbol you want: 'X' or 'O': \").upper()\n",
    "        if symbol1 not in game_marker:\n",
    "            clear_output()\n",
    "            print(\"Sorry, your input must be either 'X' or 'O', please choose again\")\n",
    "#     symbol2 = ['X','O'].remove(symbol1)\n",
    "    return symbol1"
   ]
  },
  {
   "cell_type": "code",
   "execution_count": 12,
   "id": "3c72ad87",
   "metadata": {},
   "outputs": [],
   "source": [
    "#Ask player if he/she wants to play again\n",
    "def play_again():\n",
    "    answer = \"not valid\"\n",
    "    while answer not in [\"Y\", \"N\"]:\n",
    "        answer = input(\"Do you want to play agian: Y or N: \").upper()\n",
    "        \n",
    "        if answer not in [\"Y\", \"N\"]:\n",
    "            clear_output()\n",
    "            print(\"Sorry, your input must be either 'Y' or 'N', please answer again\")\n",
    "    return answer\n"
   ]
  },
  {
   "cell_type": "code",
   "execution_count": 6,
   "id": "664c17ca",
   "metadata": {},
   "outputs": [],
   "source": [
    "# Display game board and takes user input\n",
    "def display_board(marker,position,board):\n",
    "    board[position] = marker\n",
    "    print(board[0:3])\n",
    "    print(board[3:6])\n",
    "    print(board[6:9])"
   ]
  },
  {
   "cell_type": "code",
   "execution_count": 7,
   "id": "40614989",
   "metadata": {},
   "outputs": [],
   "source": [
    "#check game status\n",
    "\n",
    "def check_status(play,board):\n",
    "    if board[0]==board[1]==board[2]!='' or board[3]==board[4]==board[5]!='' or board[6]==board[7]==board[8]!='':\n",
    "        return True\n",
    "    elif board[0]==board[3]==board[6]!='' or board[2]==board[5]==board[8]!='' or board[1]==board[4]==board[7]!='':\n",
    "        return True\n",
    "    elif board[0]==board[4]==board[8]!='' or board[2]==board[4]==board[6]!='':\n",
    "        return True \n",
    "    elif play == 9:\n",
    "        return \"It's a tie\"    \n",
    "    else:\n",
    "        return False\n",
    "     "
   ]
  },
  {
   "cell_type": "code",
   "execution_count": 14,
   "id": "d01eeea1",
   "metadata": {},
   "outputs": [
    {
     "name": "stdout",
     "output_type": "stream",
     "text": [
      "['O', 'X', 'X']\n",
      "['', 'X', 'O']\n",
      "['O', 'O', 'X']\n",
      "Player choose a position\n",
      "Enter the position you want to choose (number 1 to 9): 5''\n"
     ]
    },
    {
     "ename": "ValueError",
     "evalue": "invalid literal for int() with base 10: \"5''\"",
     "output_type": "error",
     "traceback": [
      "\u001b[0;31m---------------------------------------------------------------------------\u001b[0m",
      "\u001b[0;31mValueError\u001b[0m                                Traceback (most recent call last)",
      "\u001b[0;32m/var/folders/p8/w947pzdn25vgnqwmws2z8d640000gn/T/ipykernel_89455/1357996070.py\u001b[0m in \u001b[0;36m<module>\u001b[0;34m\u001b[0m\n\u001b[1;32m     29\u001b[0m         \u001b[0;31m#Ask player to place a position\u001b[0m\u001b[0;34m\u001b[0m\u001b[0;34m\u001b[0m\u001b[0m\n\u001b[1;32m     30\u001b[0m         \u001b[0;32mfor\u001b[0m \u001b[0mmarker\u001b[0m \u001b[0;32min\u001b[0m \u001b[0;34m[\u001b[0m\u001b[0mfirst_marker\u001b[0m\u001b[0;34m,\u001b[0m\u001b[0msecond_marker\u001b[0m\u001b[0;34m]\u001b[0m\u001b[0;34m:\u001b[0m\u001b[0;34m\u001b[0m\u001b[0;34m\u001b[0m\u001b[0m\n\u001b[0;32m---> 31\u001b[0;31m             \u001b[0mposition\u001b[0m \u001b[0;34m=\u001b[0m \u001b[0mplayer_position\u001b[0m\u001b[0;34m(\u001b[0m\u001b[0;34m)\u001b[0m \u001b[0;34m-\u001b[0m \u001b[0;36m1\u001b[0m\u001b[0;34m\u001b[0m\u001b[0;34m\u001b[0m\u001b[0m\n\u001b[0m\u001b[1;32m     32\u001b[0m             \u001b[0;32mwhile\u001b[0m \u001b[0mposition\u001b[0m \u001b[0;32min\u001b[0m \u001b[0mchosen_position\u001b[0m\u001b[0;34m:\u001b[0m\u001b[0;34m\u001b[0m\u001b[0;34m\u001b[0m\u001b[0m\n\u001b[1;32m     33\u001b[0m                 \u001b[0mprint\u001b[0m\u001b[0;34m(\u001b[0m\u001b[0;34m\"Sorry, the position is already chosen, please enter another one\"\u001b[0m\u001b[0;34m)\u001b[0m\u001b[0;34m\u001b[0m\u001b[0;34m\u001b[0m\u001b[0m\n",
      "\u001b[0;32m/var/folders/p8/w947pzdn25vgnqwmws2z8d640000gn/T/ipykernel_89455/668472802.py\u001b[0m in \u001b[0;36mplayer_position\u001b[0;34m()\u001b[0m\n\u001b[1;32m      7\u001b[0m \u001b[0;34m\u001b[0m\u001b[0m\n\u001b[1;32m      8\u001b[0m     \u001b[0;32mwhile\u001b[0m \u001b[0mposition\u001b[0m \u001b[0;32mnot\u001b[0m \u001b[0;32min\u001b[0m \u001b[0mrange\u001b[0m\u001b[0;34m(\u001b[0m\u001b[0;36m1\u001b[0m\u001b[0;34m,\u001b[0m\u001b[0;36m10\u001b[0m\u001b[0;34m)\u001b[0m\u001b[0;34m:\u001b[0m\u001b[0;34m\u001b[0m\u001b[0;34m\u001b[0m\u001b[0m\n\u001b[0;32m----> 9\u001b[0;31m         \u001b[0mposition\u001b[0m \u001b[0;34m=\u001b[0m \u001b[0mint\u001b[0m\u001b[0;34m(\u001b[0m\u001b[0minput\u001b[0m\u001b[0;34m(\u001b[0m\u001b[0;34m\"Enter the position you want to choose (number 1 to 9): \"\u001b[0m\u001b[0;34m)\u001b[0m\u001b[0;34m)\u001b[0m\u001b[0;34m\u001b[0m\u001b[0;34m\u001b[0m\u001b[0m\n\u001b[0m\u001b[1;32m     10\u001b[0m \u001b[0;34m\u001b[0m\u001b[0m\n\u001b[1;32m     11\u001b[0m         \u001b[0;32mif\u001b[0m \u001b[0mposition\u001b[0m \u001b[0;32mnot\u001b[0m \u001b[0;32min\u001b[0m \u001b[0mrange\u001b[0m\u001b[0;34m(\u001b[0m\u001b[0;36m1\u001b[0m\u001b[0;34m,\u001b[0m\u001b[0;36m10\u001b[0m\u001b[0;34m)\u001b[0m\u001b[0;34m:\u001b[0m\u001b[0;34m\u001b[0m\u001b[0;34m\u001b[0m\u001b[0m\n",
      "\u001b[0;31mValueError\u001b[0m: invalid literal for int() with base 10: \"5''\""
     ]
    }
   ],
   "source": [
    "# main game function\n",
    "from IPython.display import clear_output\n",
    "\n",
    "game_marker = ['X', 'O']\n",
    "play_on = True\n",
    "clear_output()\n",
    "\n",
    "while play_on:\n",
    "    cnt_of_play = 0\n",
    "    board_list = ['','','','','','','','','']\n",
    "    print(\"Welcome to Tic Tac Toe Game!\")\n",
    "    \n",
    "    #first player choose marker\n",
    "    first_marker = first_player_marker()\n",
    "    clear_output()\n",
    "    \n",
    "    #Assign second player marker\n",
    "    game_marker.remove(first_marker)\n",
    "    second_marker = game_marker[0]\n",
    "    \n",
    "    chosen_position = []\n",
    "    display_board('',1, board_list)\n",
    "    \n",
    "    #Players start to play\n",
    "    game_on = True\n",
    "    while game_on:   \n",
    "        print(\"Player choose a position\") \n",
    "    \n",
    "        #Ask player to place a position\n",
    "        for marker in [first_marker,second_marker]:\n",
    "            position = player_position() - 1\n",
    "            while position in chosen_position:\n",
    "                print(\"Sorry, the position is already chosen, please enter another one\")\n",
    "                position = player_position() - 1\n",
    "                \n",
    "            chosen_position.append(position)    \n",
    "            cnt_of_play += 1\n",
    "            clear_output()\n",
    "            display_board(marker,position, board_list)\n",
    "            \n",
    "            if check_status(cnt_of_play,board_list) == False:\n",
    "                game_on = True\n",
    "            elif check_status(cnt_of_play,board_list) == True:  \n",
    "                if cnt_of_play%2 == 0:\n",
    "                    game_on = False\n",
    "                    print(\"Second Player Won!\")\n",
    "                    break\n",
    "                else:\n",
    "                    game_on = False\n",
    "                    print(\"First Player Won\")\n",
    "                    break\n",
    "            else:\n",
    "                print(check_status(cnt_of_play,board_list))\n",
    "                game_on = False\n",
    "                break\n",
    "                 \n",
    "    if play_again() == \"Y\":\n",
    "        play_on = True\n",
    "    else:\n",
    "        play_on = False\n",
    "        print(\"Thanks for playing\")"
   ]
  }
 ],
 "metadata": {
  "kernelspec": {
   "display_name": "Python 3 (ipykernel)",
   "language": "python",
   "name": "python3"
  },
  "language_info": {
   "codemirror_mode": {
    "name": "ipython",
    "version": 3
   },
   "file_extension": ".py",
   "mimetype": "text/x-python",
   "name": "python",
   "nbconvert_exporter": "python",
   "pygments_lexer": "ipython3",
   "version": "3.9.7"
  }
 },
 "nbformat": 4,
 "nbformat_minor": 5
}
